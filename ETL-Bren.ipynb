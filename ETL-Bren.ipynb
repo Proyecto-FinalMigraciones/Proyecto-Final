{
 "cells": [
  {
   "cell_type": "code",
   "execution_count": 1,
   "metadata": {},
   "outputs": [],
   "source": [
    "import pandas as pd"
   ]
  },
  {
   "cell_type": "code",
   "execution_count": 2,
   "metadata": {},
   "outputs": [],
   "source": [
    "from IPython.display import display\n",
    "pd.set_option('display.max_rows', None)\n",
    "pd.set_option('display.max_columns', None)"
   ]
  },
  {
   "cell_type": "markdown",
   "metadata": {},
   "source": [
    "Lugares de origen de migrantes, datos en columnas cada 5 años de 1990 hasta 2020, total y disgregados por sexo"
   ]
  },
  {
   "cell_type": "code",
   "execution_count": 3,
   "metadata": {},
   "outputs": [],
   "source": [
    "origen = pd.read_csv('data\\origen (1).csv', skiprows=[0, 1, 2, 3,4,5,6,7,8,9])"
   ]
  },
  {
   "cell_type": "code",
   "execution_count": 4,
   "metadata": {},
   "outputs": [],
   "source": [
    "origen = origen.drop(columns=['Index', 'Type of data', 'Notes', '1990', '1995', '2000', '2005', '2010', '2015', '2020'])"
   ]
  },
  {
   "cell_type": "code",
   "execution_count": 22,
   "metadata": {},
   "outputs": [
    {
     "data": {
      "text/html": [
       "<div>\n",
       "<style scoped>\n",
       "    .dataframe tbody tr th:only-of-type {\n",
       "        vertical-align: middle;\n",
       "    }\n",
       "\n",
       "    .dataframe tbody tr th {\n",
       "        vertical-align: top;\n",
       "    }\n",
       "\n",
       "    .dataframe thead th {\n",
       "        text-align: right;\n",
       "    }\n",
       "</style>\n",
       "<table border=\"1\" class=\"dataframe\">\n",
       "  <thead>\n",
       "    <tr style=\"text-align: right;\">\n",
       "      <th></th>\n",
       "      <th>Region, development group, country or area</th>\n",
       "      <th>Location code</th>\n",
       "      <th>Year</th>\n",
       "      <th>Numero de Migrantes</th>\n",
       "    </tr>\n",
       "  </thead>\n",
       "  <tbody>\n",
       "    <tr>\n",
       "      <th>0</th>\n",
       "      <td>WORLD</td>\n",
       "      <td>900</td>\n",
       "      <td>1990.1</td>\n",
       "      <td>77563467</td>\n",
       "    </tr>\n",
       "    <tr>\n",
       "      <th>1</th>\n",
       "      <td>Sub-Saharan Africa</td>\n",
       "      <td>947</td>\n",
       "      <td>1990.1</td>\n",
       "      <td>8136844</td>\n",
       "    </tr>\n",
       "    <tr>\n",
       "      <th>2</th>\n",
       "      <td>Northern Africa and Western Asia</td>\n",
       "      <td>1833</td>\n",
       "      <td>1990.1</td>\n",
       "      <td>8830013</td>\n",
       "    </tr>\n",
       "    <tr>\n",
       "      <th>3</th>\n",
       "      <td>Central and Southern Asia</td>\n",
       "      <td>921</td>\n",
       "      <td>1990.1</td>\n",
       "      <td>17054672</td>\n",
       "    </tr>\n",
       "    <tr>\n",
       "      <th>4</th>\n",
       "      <td>Eastern and South-Eastern Asia</td>\n",
       "      <td>1832</td>\n",
       "      <td>1990.1</td>\n",
       "      <td>7414751</td>\n",
       "    </tr>\n",
       "  </tbody>\n",
       "</table>\n",
       "</div>"
      ],
      "text/plain": [
       "  Region, development group, country or area  Location code    Year   \n",
       "0                                      WORLD            900  1990.1  \\\n",
       "1                         Sub-Saharan Africa            947  1990.1   \n",
       "2           Northern Africa and Western Asia           1833  1990.1   \n",
       "3                  Central and Southern Asia            921  1990.1   \n",
       "4             Eastern and South-Eastern Asia           1832  1990.1   \n",
       "\n",
       "   Numero de Migrantes  \n",
       "0             77563467  \n",
       "1              8136844  \n",
       "2              8830013  \n",
       "3             17054672  \n",
       "4              7414751  "
      ]
     },
     "execution_count": 22,
     "metadata": {},
     "output_type": "execute_result"
    }
   ],
   "source": [
    "origen.head()"
   ]
  },
  {
   "cell_type": "code",
   "execution_count": 6,
   "metadata": {},
   "outputs": [],
   "source": [
    "def convert_to_int(value):\n",
    "    try:\n",
    "        return int(value.replace(' ', ''))\n",
    "    except (ValueError, AttributeError):\n",
    "        return 0"
   ]
  },
  {
   "cell_type": "code",
   "execution_count": 7,
   "metadata": {},
   "outputs": [],
   "source": [
    "origen[origen.columns[2:]] = origen[origen.columns[2:]].applymap(convert_to_int)"
   ]
  },
  {
   "cell_type": "code",
   "execution_count": 20,
   "metadata": {},
   "outputs": [],
   "source": [
    "origen = pd.melt(origen, id_vars=origen.columns[:2], value_vars=origen.columns[2:], var_name='Year', value_name='Numero de Migrantes')"
   ]
  },
  {
   "cell_type": "code",
   "execution_count": 23,
   "metadata": {},
   "outputs": [],
   "source": [
    "origen.rename(columns={'Region, development group, country or area': 'Region'}, inplace=True)"
   ]
  },
  {
   "cell_type": "code",
   "execution_count": 56,
   "metadata": {},
   "outputs": [],
   "source": [
    "origen['Género'] = origen['Year'].apply(lambda x: 'Hombres' if x.endswith('.1') else 'Mujeres')"
   ]
  },
  {
   "cell_type": "code",
   "execution_count": 63,
   "metadata": {},
   "outputs": [],
   "source": [
    "origen['Year'] = origen['Year'].astype(str).str.split('.').str[0]\n",
    "origen['Year'] = origen['Year'].astype(int)"
   ]
  },
  {
   "cell_type": "code",
   "execution_count": 64,
   "metadata": {},
   "outputs": [
    {
     "data": {
      "text/html": [
       "<div>\n",
       "<style scoped>\n",
       "    .dataframe tbody tr th:only-of-type {\n",
       "        vertical-align: middle;\n",
       "    }\n",
       "\n",
       "    .dataframe tbody tr th {\n",
       "        vertical-align: top;\n",
       "    }\n",
       "\n",
       "    .dataframe thead th {\n",
       "        text-align: right;\n",
       "    }\n",
       "</style>\n",
       "<table border=\"1\" class=\"dataframe\">\n",
       "  <thead>\n",
       "    <tr style=\"text-align: right;\">\n",
       "      <th></th>\n",
       "      <th>Region</th>\n",
       "      <th>Location code</th>\n",
       "      <th>Year</th>\n",
       "      <th>Numero de Migrantes</th>\n",
       "      <th>Género</th>\n",
       "    </tr>\n",
       "  </thead>\n",
       "  <tbody>\n",
       "    <tr>\n",
       "      <th>0</th>\n",
       "      <td>WORLD</td>\n",
       "      <td>900</td>\n",
       "      <td>1990</td>\n",
       "      <td>77563467</td>\n",
       "      <td>Hombres</td>\n",
       "    </tr>\n",
       "    <tr>\n",
       "      <th>1</th>\n",
       "      <td>Sub-Saharan Africa</td>\n",
       "      <td>947</td>\n",
       "      <td>1990</td>\n",
       "      <td>8136844</td>\n",
       "      <td>Hombres</td>\n",
       "    </tr>\n",
       "    <tr>\n",
       "      <th>2</th>\n",
       "      <td>Northern Africa and Western Asia</td>\n",
       "      <td>1833</td>\n",
       "      <td>1990</td>\n",
       "      <td>8830013</td>\n",
       "      <td>Hombres</td>\n",
       "    </tr>\n",
       "    <tr>\n",
       "      <th>3</th>\n",
       "      <td>Central and Southern Asia</td>\n",
       "      <td>921</td>\n",
       "      <td>1990</td>\n",
       "      <td>17054672</td>\n",
       "      <td>Hombres</td>\n",
       "    </tr>\n",
       "    <tr>\n",
       "      <th>4</th>\n",
       "      <td>Eastern and South-Eastern Asia</td>\n",
       "      <td>1832</td>\n",
       "      <td>1990</td>\n",
       "      <td>7414751</td>\n",
       "      <td>Hombres</td>\n",
       "    </tr>\n",
       "  </tbody>\n",
       "</table>\n",
       "</div>"
      ],
      "text/plain": [
       "                               Region  Location code  Year   \n",
       "0                               WORLD            900  1990  \\\n",
       "1                  Sub-Saharan Africa            947  1990   \n",
       "2    Northern Africa and Western Asia           1833  1990   \n",
       "3           Central and Southern Asia            921  1990   \n",
       "4      Eastern and South-Eastern Asia           1832  1990   \n",
       "\n",
       "   Numero de Migrantes   Género  \n",
       "0             77563467  Hombres  \n",
       "1              8136844  Hombres  \n",
       "2              8830013  Hombres  \n",
       "3             17054672  Hombres  \n",
       "4              7414751  Hombres  "
      ]
     },
     "execution_count": 64,
     "metadata": {},
     "output_type": "execute_result"
    }
   ],
   "source": [
    "origen.head()"
   ]
  },
  {
   "cell_type": "code",
   "execution_count": 67,
   "metadata": {},
   "outputs": [
    {
     "name": "stdout",
     "output_type": "stream",
     "text": [
      "<class 'pandas.core.frame.DataFrame'>\n",
      "RangeIndex: 3976 entries, 0 to 3975\n",
      "Data columns (total 5 columns):\n",
      " #   Column               Non-Null Count  Dtype \n",
      "---  ------               --------------  ----- \n",
      " 0   Region               3976 non-null   object\n",
      " 1   Location code        3976 non-null   int64 \n",
      " 2   Year                 3976 non-null   int32 \n",
      " 3   Numero de Migrantes  3976 non-null   int64 \n",
      " 4   Género               3976 non-null   object\n",
      "dtypes: int32(1), int64(2), object(2)\n",
      "memory usage: 139.9+ KB\n"
     ]
    }
   ],
   "source": [
    "origen.info()"
   ]
  },
  {
   "cell_type": "code",
   "execution_count": 69,
   "metadata": {},
   "outputs": [],
   "source": [
    "origen.to_csv('data\\origen_clean.csv', index=False)"
   ]
  },
  {
   "cell_type": "markdown",
   "metadata": {},
   "source": [
    "Lugar de origen de emigrantes mujeres datos separados cada 5 años"
   ]
  },
  {
   "cell_type": "code",
   "execution_count": 26,
   "metadata": {},
   "outputs": [],
   "source": [
    "origen_mujeres = pd.read_csv('data\\origen_mujeres.csv', skiprows=[0, 1, 2, 3,4,5,6,7,8,9])"
   ]
  },
  {
   "cell_type": "code",
   "execution_count": 27,
   "metadata": {},
   "outputs": [],
   "source": [
    "origen_mujeres = origen_mujeres.drop(columns=['Index', 'Type of data', 'Notes'])"
   ]
  },
  {
   "cell_type": "code",
   "execution_count": 28,
   "metadata": {},
   "outputs": [
    {
     "data": {
      "text/html": [
       "<div>\n",
       "<style scoped>\n",
       "    .dataframe tbody tr th:only-of-type {\n",
       "        vertical-align: middle;\n",
       "    }\n",
       "\n",
       "    .dataframe tbody tr th {\n",
       "        vertical-align: top;\n",
       "    }\n",
       "\n",
       "    .dataframe thead th {\n",
       "        text-align: right;\n",
       "    }\n",
       "</style>\n",
       "<table border=\"1\" class=\"dataframe\">\n",
       "  <thead>\n",
       "    <tr style=\"text-align: right;\">\n",
       "      <th></th>\n",
       "      <th>Region, development group, country or area</th>\n",
       "      <th>Location code</th>\n",
       "      <th>1990</th>\n",
       "      <th>1995</th>\n",
       "      <th>2000</th>\n",
       "      <th>2005</th>\n",
       "      <th>2010</th>\n",
       "      <th>2015</th>\n",
       "      <th>2020</th>\n",
       "    </tr>\n",
       "  </thead>\n",
       "  <tbody>\n",
       "    <tr>\n",
       "      <th>0</th>\n",
       "      <td>WORLD</td>\n",
       "      <td>900</td>\n",
       "      <td>49.3</td>\n",
       "      <td>49.4</td>\n",
       "      <td>49.4</td>\n",
       "      <td>49.0</td>\n",
       "      <td>48.4</td>\n",
       "      <td>48.3</td>\n",
       "      <td>48.1</td>\n",
       "    </tr>\n",
       "    <tr>\n",
       "      <th>1</th>\n",
       "      <td>Sub-Saharan Africa</td>\n",
       "      <td>947</td>\n",
       "      <td>46.9</td>\n",
       "      <td>47.4</td>\n",
       "      <td>47.3</td>\n",
       "      <td>46.6</td>\n",
       "      <td>47.2</td>\n",
       "      <td>48.0</td>\n",
       "      <td>47.9</td>\n",
       "    </tr>\n",
       "    <tr>\n",
       "      <th>2</th>\n",
       "      <td>Northern Africa and Western Asia</td>\n",
       "      <td>1833</td>\n",
       "      <td>46.0</td>\n",
       "      <td>45.6</td>\n",
       "      <td>44.8</td>\n",
       "      <td>44.7</td>\n",
       "      <td>43.7</td>\n",
       "      <td>44.3</td>\n",
       "      <td>44.3</td>\n",
       "    </tr>\n",
       "    <tr>\n",
       "      <th>3</th>\n",
       "      <td>Central and Southern Asia</td>\n",
       "      <td>921</td>\n",
       "      <td>45.2</td>\n",
       "      <td>44.8</td>\n",
       "      <td>44.4</td>\n",
       "      <td>43.3</td>\n",
       "      <td>40.5</td>\n",
       "      <td>39.8</td>\n",
       "      <td>39.1</td>\n",
       "    </tr>\n",
       "    <tr>\n",
       "      <th>4</th>\n",
       "      <td>Eastern and South-Eastern Asia</td>\n",
       "      <td>1832</td>\n",
       "      <td>49.8</td>\n",
       "      <td>50.4</td>\n",
       "      <td>51.0</td>\n",
       "      <td>51.1</td>\n",
       "      <td>51.2</td>\n",
       "      <td>51.3</td>\n",
       "      <td>51.0</td>\n",
       "    </tr>\n",
       "  </tbody>\n",
       "</table>\n",
       "</div>"
      ],
      "text/plain": [
       "  Region, development group, country or area  Location code  1990  1995  2000   \n",
       "0                                      WORLD            900  49.3  49.4  49.4  \\\n",
       "1                         Sub-Saharan Africa            947  46.9  47.4  47.3   \n",
       "2           Northern Africa and Western Asia           1833  46.0  45.6  44.8   \n",
       "3                  Central and Southern Asia            921  45.2  44.8  44.4   \n",
       "4             Eastern and South-Eastern Asia           1832  49.8  50.4  51.0   \n",
       "\n",
       "   2005  2010  2015  2020  \n",
       "0  49.0  48.4  48.3  48.1  \n",
       "1  46.6  47.2  48.0  47.9  \n",
       "2  44.7  43.7  44.3  44.3  \n",
       "3  43.3  40.5  39.8  39.1  \n",
       "4  51.1  51.2  51.3  51.0  "
      ]
     },
     "execution_count": 28,
     "metadata": {},
     "output_type": "execute_result"
    }
   ],
   "source": [
    "origen_mujeres.head()"
   ]
  },
  {
   "cell_type": "code",
   "execution_count": 35,
   "metadata": {},
   "outputs": [
    {
     "name": "stdout",
     "output_type": "stream",
     "text": [
      "<class 'pandas.core.frame.DataFrame'>\n",
      "RangeIndex: 1988 entries, 0 to 1987\n",
      "Data columns (total 4 columns):\n",
      " #   Column                                      Non-Null Count  Dtype  \n",
      "---  ------                                      --------------  -----  \n",
      " 0   Region, development group, country or area  1988 non-null   object \n",
      " 1   Location code                               1988 non-null   int64  \n",
      " 2   Year                                        1988 non-null   object \n",
      " 3   Numero de Migrantes                         1988 non-null   float64\n",
      "dtypes: float64(1), int64(1), object(2)\n",
      "memory usage: 62.3+ KB\n"
     ]
    }
   ],
   "source": [
    "origen_mujeres.info()"
   ]
  },
  {
   "cell_type": "code",
   "execution_count": 31,
   "metadata": {},
   "outputs": [],
   "source": [
    "def convert_to_float(value):\n",
    "    try:\n",
    "        return float(value)\n",
    "    except ValueError:\n",
    "        return 0.0"
   ]
  },
  {
   "cell_type": "code",
   "execution_count": 32,
   "metadata": {},
   "outputs": [],
   "source": [
    "origen_mujeres[origen_mujeres.columns[2:]] = origen_mujeres[origen_mujeres.columns[2:]].applymap(convert_to_float)"
   ]
  },
  {
   "cell_type": "code",
   "execution_count": 34,
   "metadata": {},
   "outputs": [],
   "source": [
    "origen_mujeres = pd.melt(origen_mujeres, id_vars=origen_mujeres.columns[:2], value_vars=origen_mujeres.columns[2:], var_name='Year', value_name='Numero de Migrantes')"
   ]
  },
  {
   "cell_type": "code",
   "execution_count": 37,
   "metadata": {},
   "outputs": [],
   "source": [
    "origen_mujeres.rename(columns={'Region, development group, country or area': 'Region'}, inplace=True)"
   ]
  },
  {
   "cell_type": "code",
   "execution_count": 38,
   "metadata": {},
   "outputs": [
    {
     "data": {
      "text/html": [
       "<div>\n",
       "<style scoped>\n",
       "    .dataframe tbody tr th:only-of-type {\n",
       "        vertical-align: middle;\n",
       "    }\n",
       "\n",
       "    .dataframe tbody tr th {\n",
       "        vertical-align: top;\n",
       "    }\n",
       "\n",
       "    .dataframe thead th {\n",
       "        text-align: right;\n",
       "    }\n",
       "</style>\n",
       "<table border=\"1\" class=\"dataframe\">\n",
       "  <thead>\n",
       "    <tr style=\"text-align: right;\">\n",
       "      <th></th>\n",
       "      <th>Region</th>\n",
       "      <th>Location code</th>\n",
       "      <th>Year</th>\n",
       "      <th>Numero de Migrantes</th>\n",
       "    </tr>\n",
       "  </thead>\n",
       "  <tbody>\n",
       "    <tr>\n",
       "      <th>0</th>\n",
       "      <td>WORLD</td>\n",
       "      <td>900</td>\n",
       "      <td>1990</td>\n",
       "      <td>49.3</td>\n",
       "    </tr>\n",
       "    <tr>\n",
       "      <th>1</th>\n",
       "      <td>Sub-Saharan Africa</td>\n",
       "      <td>947</td>\n",
       "      <td>1990</td>\n",
       "      <td>46.9</td>\n",
       "    </tr>\n",
       "    <tr>\n",
       "      <th>2</th>\n",
       "      <td>Northern Africa and Western Asia</td>\n",
       "      <td>1833</td>\n",
       "      <td>1990</td>\n",
       "      <td>46.0</td>\n",
       "    </tr>\n",
       "    <tr>\n",
       "      <th>3</th>\n",
       "      <td>Central and Southern Asia</td>\n",
       "      <td>921</td>\n",
       "      <td>1990</td>\n",
       "      <td>45.2</td>\n",
       "    </tr>\n",
       "    <tr>\n",
       "      <th>4</th>\n",
       "      <td>Eastern and South-Eastern Asia</td>\n",
       "      <td>1832</td>\n",
       "      <td>1990</td>\n",
       "      <td>49.8</td>\n",
       "    </tr>\n",
       "  </tbody>\n",
       "</table>\n",
       "</div>"
      ],
      "text/plain": [
       "                               Region  Location code  Year   \n",
       "0                               WORLD            900  1990  \\\n",
       "1                  Sub-Saharan Africa            947  1990   \n",
       "2    Northern Africa and Western Asia           1833  1990   \n",
       "3           Central and Southern Asia            921  1990   \n",
       "4      Eastern and South-Eastern Asia           1832  1990   \n",
       "\n",
       "   Numero de Migrantes  \n",
       "0                 49.3  \n",
       "1                 46.9  \n",
       "2                 46.0  \n",
       "3                 45.2  \n",
       "4                 49.8  "
      ]
     },
     "execution_count": 38,
     "metadata": {},
     "output_type": "execute_result"
    }
   ],
   "source": [
    "origen_mujeres.head()"
   ]
  },
  {
   "cell_type": "code",
   "execution_count": 70,
   "metadata": {},
   "outputs": [],
   "source": [
    "origen_mujeres.to_csv('data\\origen_mujeres_clean.csv', index=False)"
   ]
  }
 ],
 "metadata": {
  "kernelspec": {
   "display_name": "Python 3",
   "language": "python",
   "name": "python3"
  },
  "language_info": {
   "codemirror_mode": {
    "name": "ipython",
    "version": 3
   },
   "file_extension": ".py",
   "mimetype": "text/x-python",
   "name": "python",
   "nbconvert_exporter": "python",
   "pygments_lexer": "ipython3",
   "version": "3.11.3"
  },
  "orig_nbformat": 4
 },
 "nbformat": 4,
 "nbformat_minor": 2
}
