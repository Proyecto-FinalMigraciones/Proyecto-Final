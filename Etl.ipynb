{
 "cells": [
  {
   "cell_type": "code",
   "execution_count": 1,
   "metadata": {},
   "outputs": [],
   "source": [
    "import pandas as pd\n",
    "import numpy as np\n",
    "\n",
    "def transform_and_clean_data(input_csv, output_csv):\n",
    "    \n",
    "    df = pd.read_csv(input_csv, skiprows=lambda x: x < 10)\n",
    "\n",
    "    df = df.drop(index=range(21))\n",
    "\n",
    "    df = df.drop(columns=[\"Unnamed: 0\", '1990', '1995', '2000', '2005', '2010', '2015', '2020'])\n",
    "\n",
    "    year_columns = df.columns[4:]\n",
    "\n",
    "    df_melted = pd.melt(df, id_vars=df.columns[:4], value_vars=year_columns, var_name='Year', value_name='Numero de Migrantes')\n",
    "\n",
    "    df_melted['Género'] = df_melted['Year'].apply(lambda x: 'Hombres' if x.endswith('.1') else 'Mujeres')\n",
    "\n",
    "    df_melted.rename(columns={'Region, development group, country or area': 'Region'}, inplace=True)\n",
    "\n",
    "    df_melted['Numero de Migrantes'] = df_melted['Numero de Migrantes'].replace('..', np.nan)\n",
    "    df_melted['Numero de Migrantes'] = df_melted['Numero de Migrantes'].str.replace(' ', '').str.replace(',', '').astype(float)\n",
    "    df_melted = df_melted.fillna(0)\n",
    "\n",
    "  \n",
    "    df_melted.to_csv(output_csv, index=False)\n",
    "\n",
    "\n",
    "input_csv = 'destino.csv'\n",
    "output_csv = 'new_destino.csv'\n",
    "transform_and_clean_data(input_csv, output_csv)"
   ]
  }
 ],
 "metadata": {
  "kernelspec": {
   "display_name": "Python 3",
   "language": "python",
   "name": "python3"
  },
  "language_info": {
   "codemirror_mode": {
    "name": "ipython",
    "version": 3
   },
   "file_extension": ".py",
   "mimetype": "text/x-python",
   "name": "python",
   "nbconvert_exporter": "python",
   "pygments_lexer": "ipython3",
   "version": "3.11.2"
  },
  "orig_nbformat": 4
 },
 "nbformat": 4,
 "nbformat_minor": 2
}
