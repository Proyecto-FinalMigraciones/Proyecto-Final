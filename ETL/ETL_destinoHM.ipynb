{
 "cells": [
  {
   "cell_type": "code",
   "execution_count": 1,
   "metadata": {},
   "outputs": [],
   "source": [
    "import pandas as pd\n",
    "import numpy as np\n"
   ]
  },
  {
   "cell_type": "code",
   "execution_count": 2,
   "metadata": {},
   "outputs": [],
   "source": [
    "df = pd.read_csv('destino.csv')\n",
    "\n",
    "df = df[~df['Year'].isin([1990.1, 1995.1, 1990.2, 1995.2])]\n",
    "\n",
    "df_hombres = df[df['Género'] == 'Hombres']\n",
    "df_mujeres = df[df['Género'] == 'Mujeres']\n",
    "\n",
    "df_hombres = df_hombres.rename(columns={'Número de Migrantes': 'Migrantes Hombres'})\n",
    "df_mujeres = df_mujeres.rename(columns={'Número de Migrantes': 'Migrantes Mujeres'})\n",
    "\n",
    "df_hombres.drop('Género', axis=1, inplace=True)\n",
    "df_mujeres.drop('Género', axis=1, inplace=True)\n",
    "\n",
    "paises_a_filtrar = ['AFRICA', 'Eastern Africa',\n",
    "                     'Northern Africa', 'Middle Africa', 'Southern Africa',\n",
    "                     'Western Africa', 'ASIA','Central Asia', 'Eastern Asia', \n",
    "                     'South-Eastern Asia', 'Southern Asia', 'Western Asia', 'EUROPE',\n",
    "                     'Eastern Europe', 'Northern Europe', 'Southern Europe', 'Western Europe',  'LATIN AMERICA AND THE CARIBBEAN',\n",
    "                     'Caribbean', 'Central America','South America', 'NORTHERN AMERICA', 'OCEANIA', 'Australia and New Zealand',\n",
    "                     'Melanesia', 'Micronesia', 'Polynesia*']\n",
    "\n",
    "paises_a_filtrar = [pais.strip().upper() for pais in paises_a_filtrar]\n",
    "\n"
   ]
  },
  {
   "cell_type": "code",
   "execution_count": 3,
   "metadata": {},
   "outputs": [],
   "source": [
    "df_mujeres = df_mujeres[~df_mujeres['Region'].str.strip().str.upper().isin(paises_a_filtrar)].copy()\n",
    "\n",
    "df_mujeres.reset_index(drop=True, inplace=True)\n",
    "\n",
    "df_mujeres.rename(columns={'Region': 'Pais', 'Year': 'Año', 'Location code': 'Código de ubicación', 'Numero de Migrantes': 'Mujeres'}, inplace=True)\n",
    "\n",
    "df_mujeres.drop(['Notes', 'Type of data'], axis=1, inplace=True)\n",
    "\n",
    "df_mujeres['Año'] = df_mujeres['Año'].astype(int)\n",
    "\n",
    "df_mujeres.to_csv('destino_mujeres.csv', index=False)"
   ]
  },
  {
   "cell_type": "code",
   "execution_count": 4,
   "metadata": {},
   "outputs": [],
   "source": [
    "df_hombres = df_hombres[~df_hombres['Region'].str.strip().str.upper().isin(paises_a_filtrar)].copy()\n",
    "\n",
    "df_hombres.reset_index(drop=True, inplace=True)\n",
    "\n",
    "df_hombres.rename(columns={'Region': 'Pais', 'Year': 'Año', 'Location code': 'Código de ubicación', 'Numero de Migrantes': 'Hombres'}, inplace=True)\n",
    "\n",
    "df_hombres.drop(['Notes', 'Type of data'], axis=1, inplace=True)\n",
    "\n",
    "df_hombres['Año'] = df_hombres['Año'].astype(int)\n",
    "\n",
    "df_hombres.to_csv('destino_hombres.csv', index=False)"
   ]
  }
 ],
 "metadata": {
  "kernelspec": {
   "display_name": "Python 3",
   "language": "python",
   "name": "python3"
  },
  "language_info": {
   "codemirror_mode": {
    "name": "ipython",
    "version": 3
   },
   "file_extension": ".py",
   "mimetype": "text/x-python",
   "name": "python",
   "nbconvert_exporter": "python",
   "pygments_lexer": "ipython3",
   "version": "3.10.11"
  },
  "orig_nbformat": 4
 },
 "nbformat": 4,
 "nbformat_minor": 2
}
