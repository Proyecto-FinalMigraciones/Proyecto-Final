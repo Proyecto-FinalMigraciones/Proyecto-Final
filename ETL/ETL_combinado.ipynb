{
 "cells": [
  {
   "cell_type": "code",
   "execution_count": 1,
   "metadata": {},
   "outputs": [],
   "source": [
    "import pandas as pd\n",
    "import numpy as np"
   ]
  },
  {
   "cell_type": "code",
   "execution_count": 2,
   "metadata": {},
   "outputs": [],
   "source": [
    "df1 = pd.read_csv('origen_H_M.csv')\n",
    "df2 = pd.read_csv('destino_H_M.csv')\n",
    "\n",
    "df_combined = pd.merge(df1, df2, on=['País', 'Código de País', 'Año'], suffixes=('_origen', '_destino'))\n",
    "\n",
    "df_combined.rename(columns={\n",
    "    'País': 'Pais',\n",
    "    'Código de País': 'Id_Pais',\n",
    "    'Hombres origen': 'Hombres_origen',\n",
    "    'Mujeres origen': 'Mujeres_origen',\n",
    "    'Hombres destino': 'Hombres_destino',\n",
    "    'Mujeres destino': 'Mujeres_destino'\n",
    "}, inplace=True)\n",
    "\n",
    "df_combined.drop(columns=['Código de ubicación_origen', 'Código de ubicación_destino'], inplace=True)\n",
    "col_orden = ['Año', 'Pais', 'Id_Pais', 'Hombres_origen', 'Mujeres_origen', 'Hombres_destino', 'Mujeres_destino']\n",
    "df_combined = df_combined[col_orden]\n",
    "columnas_numericas = ['Año', 'Hombres_origen', 'Mujeres_origen', 'Hombres_destino', 'Mujeres_destino']\n",
    "df_combined[columnas_numericas] = df_combined[columnas_numericas].astype(float)\n",
    "\n",
    "df_combined['Pais'] = df_combined['Pais'].str.replace('*', '')\n",
    "\n",
    "df_combined['Pais'] = df_combined['Pais'].str.strip()\n",
    "\n",
    "df_combined.to_csv('migracion_origen_destino.csv', index=False)"
   ]
  }
 ],
 "metadata": {
  "kernelspec": {
   "display_name": "Python 3",
   "language": "python",
   "name": "python3"
  },
  "language_info": {
   "codemirror_mode": {
    "name": "ipython",
    "version": 3
   },
   "file_extension": ".py",
   "mimetype": "text/x-python",
   "name": "python",
   "nbconvert_exporter": "python",
   "pygments_lexer": "ipython3",
   "version": "3.10.11"
  },
  "orig_nbformat": 4
 },
 "nbformat": 4,
 "nbformat_minor": 2
}
