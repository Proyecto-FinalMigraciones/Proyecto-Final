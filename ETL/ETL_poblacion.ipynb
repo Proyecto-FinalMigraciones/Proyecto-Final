{
 "cells": [
  {
   "cell_type": "code",
   "execution_count": 1,
   "metadata": {},
   "outputs": [],
   "source": [
    "import pandas as pd\n",
    "import numpy as np"
   ]
  },
  {
   "cell_type": "code",
   "execution_count": 4,
   "metadata": {},
   "outputs": [],
   "source": [
    "df = pd.read_csv('poblacion_HM.csv')\n",
    "\n",
    "eliminar_filas = [4557, 4558, 4559, 4560, 4561]\n",
    "df = df.drop(eliminar_filas)\n",
    "df.reset_index(drop=True, inplace=True)\n",
    "\n",
    "df = df.drop(columns=['Time Code'])\n",
    "\n",
    "df = df.rename(columns={\n",
    "    'Time': 'Año',\n",
    "    'Country Name': 'Pais',\n",
    "    'Country Code': 'Id_Pais',\n",
    "    'Population, total [SP.POP.TOTL]': 'Poblacion_total',\n",
    "    'Population, male [SP.POP.TOTL.MA.IN]': 'Poblacion_masculina',\n",
    "    'Population, female [SP.POP.TOTL.FE.IN]': 'Poblacion_femenina',\n",
    "})\n",
    "\n",
    "pd.options.display.float_format = '{:.2f}'.format\n",
    "\n",
    "df.to_csv('poblacion_H_M.csv', index=False)"
   ]
  }
 ],
 "metadata": {
  "kernelspec": {
   "display_name": "Python 3",
   "language": "python",
   "name": "python3"
  },
  "language_info": {
   "codemirror_mode": {
    "name": "ipython",
    "version": 3
   },
   "file_extension": ".py",
   "mimetype": "text/x-python",
   "name": "python",
   "nbconvert_exporter": "python",
   "pygments_lexer": "ipython3",
   "version": "3.10.11"
  },
  "orig_nbformat": 4
 },
 "nbformat": 4,
 "nbformat_minor": 2
}
