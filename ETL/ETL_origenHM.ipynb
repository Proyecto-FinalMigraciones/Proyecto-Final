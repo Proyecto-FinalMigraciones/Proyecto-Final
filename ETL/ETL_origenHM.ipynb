{
 "cells": [
  {
   "cell_type": "code",
   "execution_count": 1,
   "metadata": {},
   "outputs": [],
   "source": [
    "import pandas as pd\n",
    "import numpy as np"
   ]
  },
  {
   "cell_type": "code",
   "execution_count": 2,
   "metadata": {},
   "outputs": [],
   "source": [
    "df = pd.read_csv('origen.csv')\n",
    "\n",
    "df = df[~df['Year'].isin([1990, 1995])]\n",
    "\n",
    "df_hombres = df[df['Género'] == 'Hombres']\n",
    "df_mujeres = df[df['Género'] == 'Mujeres']\n",
    "\n",
    "df_hombres = df_hombres.drop('Género', axis=1)\n",
    "df_mujeres = df_mujeres.drop('Género', axis=1)\n",
    "\n",
    "\n",
    "paises_a_filtrar = ['WORLD', 'Sub-Saharan Africa', 'Northern Africa and Western Asia',\n",
    "                     'Central and Southern Asia', 'Eastern and South-Eastern Asia',\n",
    "                     'Latin America and the Caribbean',\n",
    "                     'Oceania (excluding Australia and New Zealand)',\n",
    "                     'Australia and New Zealand', 'Europe and Northern America',\n",
    "                     'Developed regions', 'Less developed regions',\n",
    "                     'Less developed regions, excluding least developed countries',\n",
    "                     'Less developed regions, excluding China',\n",
    "                     'Least developed countries',\n",
    "                     'Land-locked Developing Countries (LLDC)',\n",
    "                     'Small island developing States (SIDS)',\n",
    "                     'High-income countries', 'Middle-income countries',\n",
    "                     'Upper-middle-income countries', 'Lower-middle-income countries',\n",
    "                     'Low-income countries', 'AFRICA', 'Eastern Africa',\n",
    "                     'Northern Africa', 'Middle Africa', 'Southern Africa',\n",
    "                     'Western Africa', 'ASIA','Central Asia', 'Eastern Asia', \n",
    "                     'South-Eastern Asia', 'Southern Asia', 'Western Asia', 'EUROPE',\n",
    "                     'Eastern Europe', 'Northern Europe', 'Southern Europe', 'Western Europe',\n",
    "                     'Caribbean', 'Central America','South America', 'NORTHERN AMERICA', 'OCEANIA',\n",
    "                     'Melanesia', 'Micronesia', 'Polynesia*', 'OTHER']\n",
    "\n",
    "paises_a_filtrar = [pais.strip().upper() for pais in paises_a_filtrar]"
   ]
  },
  {
   "cell_type": "code",
   "execution_count": 3,
   "metadata": {},
   "outputs": [],
   "source": [
    "df_mujeres = df_mujeres[~df_mujeres['Region'].str.strip().str.upper().isin(paises_a_filtrar)].copy()\n",
    "\n",
    "df_mujeres.reset_index(drop=True, inplace=True)\n",
    "\n",
    "df_mujeres.rename(columns={'Region': 'Pais', 'Year': 'Año', 'Location code': 'Código de ubicación', 'Numero de Migrantes': 'Mujeres'}, inplace=True)\n",
    "\n",
    "df_mujeres.to_csv('origen_mujeres.csv', index=False)"
   ]
  },
  {
   "cell_type": "code",
   "execution_count": 4,
   "metadata": {},
   "outputs": [],
   "source": [
    "df_hombres = df_hombres[~df_hombres['Region'].str.strip().str.upper().isin(paises_a_filtrar)].copy()\n",
    "\n",
    "df_hombres.reset_index(drop=True, inplace=True)\n",
    "\n",
    "df_hombres.rename(columns={'Region': 'Pais', 'Year': 'Año', 'Location code': 'Código de ubicación', 'Numero de Migrantes': 'Hombres'}, inplace=True)\n",
    "\n",
    "df_hombres.to_csv('origen_hombres.csv', index=False)"
   ]
  }
 ],
 "metadata": {
  "kernelspec": {
   "display_name": "Python 3",
   "language": "python",
   "name": "python3"
  },
  "language_info": {
   "codemirror_mode": {
    "name": "ipython",
    "version": 3
   },
   "file_extension": ".py",
   "mimetype": "text/x-python",
   "name": "python",
   "nbconvert_exporter": "python",
   "pygments_lexer": "ipython3",
   "version": "3.10.11"
  },
  "orig_nbformat": 4
 },
 "nbformat": 4,
 "nbformat_minor": 2
}
