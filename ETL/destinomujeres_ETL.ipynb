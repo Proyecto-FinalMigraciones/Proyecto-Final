{
 "cells": [
  {
   "cell_type": "code",
   "execution_count": 1,
   "metadata": {},
   "outputs": [],
   "source": [
    "import pandas as pd\n",
    "import numpy as np"
   ]
  },
  {
   "cell_type": "code",
   "execution_count": 2,
   "metadata": {},
   "outputs": [],
   "source": [
    "d_mujeres = pd.read_csv('destino_mujeres_pais.csv')"
   ]
  },
  {
   "cell_type": "code",
   "execution_count": 3,
   "metadata": {},
   "outputs": [
    {
     "data": {
      "text/html": [
       "<div>\n",
       "<style scoped>\n",
       "    .dataframe tbody tr th:only-of-type {\n",
       "        vertical-align: middle;\n",
       "    }\n",
       "\n",
       "    .dataframe tbody tr th {\n",
       "        vertical-align: top;\n",
       "    }\n",
       "\n",
       "    .dataframe thead th {\n",
       "        text-align: right;\n",
       "    }\n",
       "</style>\n",
       "<table border=\"1\" class=\"dataframe\">\n",
       "  <thead>\n",
       "    <tr style=\"text-align: right;\">\n",
       "      <th></th>\n",
       "      <th>Region, development group, country or area</th>\n",
       "      <th>Notes</th>\n",
       "      <th>Location code</th>\n",
       "      <th>Type of data</th>\n",
       "      <th>Year</th>\n",
       "      <th>Numero de Migrantes</th>\n",
       "    </tr>\n",
       "  </thead>\n",
       "  <tbody>\n",
       "    <tr>\n",
       "      <th>0</th>\n",
       "      <td>Burundi</td>\n",
       "      <td>0.0</td>\n",
       "      <td>108</td>\n",
       "      <td>B R</td>\n",
       "      <td>1990</td>\n",
       "      <td>51.0</td>\n",
       "    </tr>\n",
       "    <tr>\n",
       "      <th>1</th>\n",
       "      <td>Comoros</td>\n",
       "      <td>0.0</td>\n",
       "      <td>174</td>\n",
       "      <td>B</td>\n",
       "      <td>1990</td>\n",
       "      <td>52.3</td>\n",
       "    </tr>\n",
       "    <tr>\n",
       "      <th>2</th>\n",
       "      <td>Djibouti</td>\n",
       "      <td>0.0</td>\n",
       "      <td>262</td>\n",
       "      <td>B R</td>\n",
       "      <td>1990</td>\n",
       "      <td>47.4</td>\n",
       "    </tr>\n",
       "    <tr>\n",
       "      <th>3</th>\n",
       "      <td>Eritrea</td>\n",
       "      <td>0.0</td>\n",
       "      <td>232</td>\n",
       "      <td>I R</td>\n",
       "      <td>1990</td>\n",
       "      <td>47.4</td>\n",
       "    </tr>\n",
       "    <tr>\n",
       "      <th>4</th>\n",
       "      <td>Ethiopia</td>\n",
       "      <td>0.0</td>\n",
       "      <td>231</td>\n",
       "      <td>B R</td>\n",
       "      <td>1990</td>\n",
       "      <td>47.4</td>\n",
       "    </tr>\n",
       "  </tbody>\n",
       "</table>\n",
       "</div>"
      ],
      "text/plain": [
       "  Region, development group, country or area  Notes  Location code   \n",
       "0                                    Burundi    0.0            108  \\\n",
       "1                                    Comoros    0.0            174   \n",
       "2                                   Djibouti    0.0            262   \n",
       "3                                    Eritrea    0.0            232   \n",
       "4                                   Ethiopia    0.0            231   \n",
       "\n",
       "  Type of data  Year  Numero de Migrantes  \n",
       "0          B R  1990                 51.0  \n",
       "1            B  1990                 52.3  \n",
       "2          B R  1990                 47.4  \n",
       "3          I R  1990                 47.4  \n",
       "4          B R  1990                 47.4  "
      ]
     },
     "execution_count": 3,
     "metadata": {},
     "output_type": "execute_result"
    }
   ],
   "source": [
    "d_mujeres.head()"
   ]
  },
  {
   "cell_type": "code",
   "execution_count": 4,
   "metadata": {},
   "outputs": [],
   "source": [
    "# Lista de columnas a eliminar\n",
    "columns_to_drop = ['Notes', 'Type of data']\n",
    "\n",
    "# Eliminar las columnas del DataFrame\n",
    "d_mujeres.drop(columns=columns_to_drop, inplace=True)"
   ]
  },
  {
   "cell_type": "code",
   "execution_count": 5,
   "metadata": {},
   "outputs": [
    {
     "data": {
      "text/plain": [
       "(1813, 4)"
      ]
     },
     "execution_count": 5,
     "metadata": {},
     "output_type": "execute_result"
    }
   ],
   "source": [
    "d_mujeres.shape"
   ]
  },
  {
   "cell_type": "code",
   "execution_count": 6,
   "metadata": {},
   "outputs": [
    {
     "data": {
      "text/plain": [
       "Region, development group, country or area     object\n",
       "Location code                                   int64\n",
       "Year                                            int64\n",
       "Numero de Migrantes                           float64\n",
       "dtype: object"
      ]
     },
     "execution_count": 6,
     "metadata": {},
     "output_type": "execute_result"
    }
   ],
   "source": [
    "d_mujeres.dtypes"
   ]
  },
  {
   "cell_type": "code",
   "execution_count": 7,
   "metadata": {},
   "outputs": [],
   "source": [
    "d_mujeres.rename(columns={'Region, development group, country or area': 'País', 'Year': 'Año', 'Location code': 'Código de ubicación'}, inplace=True)"
   ]
  },
  {
   "cell_type": "code",
   "execution_count": 8,
   "metadata": {},
   "outputs": [
    {
     "name": "stdout",
     "output_type": "stream",
     "text": [
      "<class 'pandas.core.frame.DataFrame'>\n",
      "RangeIndex: 1813 entries, 0 to 1812\n",
      "Data columns (total 4 columns):\n",
      " #   Column               Non-Null Count  Dtype  \n",
      "---  ------               --------------  -----  \n",
      " 0   País                 1813 non-null   object \n",
      " 1   Código de ubicación  1813 non-null   int64  \n",
      " 2   Año                  1813 non-null   int64  \n",
      " 3   Numero de Migrantes  1813 non-null   float64\n",
      "dtypes: float64(1), int64(2), object(1)\n",
      "memory usage: 56.8+ KB\n"
     ]
    }
   ],
   "source": [
    "d_mujeres.info()"
   ]
  },
  {
   "cell_type": "code",
   "execution_count": 9,
   "metadata": {},
   "outputs": [],
   "source": [
    "d_mujeres = d_mujeres[~d_mujeres['Año'].isin([1990, 1995])]"
   ]
  },
  {
   "cell_type": "code",
   "execution_count": 10,
   "metadata": {},
   "outputs": [
    {
     "name": "stdout",
     "output_type": "stream",
     "text": [
      "['   Burundi' '   Comoros' '   Djibouti' '   Eritrea' '   Ethiopia'\n",
      " '   Kenya' '   Madagascar' '   Malawi' '   Mauritius*' '   Mayotte*'\n",
      " '   Mozambique' '   Réunion*' '   Rwanda' '   Seychelles' '   Somalia'\n",
      " '   South Sudan' '   Uganda' '   United Republic of Tanzania*'\n",
      " '   Zambia' '   Zimbabwe' '  Middle Africa' '   Angola' '   Cameroon'\n",
      " '   Central African Republic' '   Chad' '   Congo'\n",
      " '   Democratic Republic of the Congo' '   Equatorial Guinea' '   Gabon'\n",
      " '   Sao Tome and Principe' '  Northern Africa' '   Algeria' '   Egypt'\n",
      " '   Libya' '   Morocco' '   Sudan' '   Tunisia' '   Western Sahara'\n",
      " '  Southern Africa' '   Botswana' '   Eswatini' '   Lesotho' '   Namibia'\n",
      " '   South Africa' '  Western Africa' '   Benin' '   Burkina Faso'\n",
      " '   Cabo Verde' \"   Côte d'Ivoire\" '   Gambia' '   Ghana' '   Guinea'\n",
      " '   Guinea-Bissau' '   Liberia' '   Mali' '   Mauritania' '   Niger'\n",
      " '   Nigeria' '   Saint Helena*' '   Senegal' '   Sierra Leone' '   Togo'\n",
      " ' ASIA' '  Central Asia' '   Kazakhstan' '   Kyrgyzstan' '   Tajikistan'\n",
      " '   Turkmenistan' '   Uzbekistan' '  Eastern Asia' '   China*'\n",
      " '   China, Hong Kong SAR*' '   China, Macao SAR*'\n",
      " '   China, Taiwan Province of China*'\n",
      " \"   Dem. People's Republic of Korea\" '   Japan' '   Mongolia'\n",
      " '   Republic of Korea' '  South-Eastern Asia' '   Brunei Darussalam'\n",
      " '   Cambodia' '   Indonesia' \"   Lao People's Democratic Republic\"\n",
      " '   Malaysia*' '   Myanmar' '   Philippines' '   Singapore' '   Thailand'\n",
      " '   Timor-Leste' '   Viet Nam' '  Southern Asia' '   Afghanistan'\n",
      " '   Bangladesh' '   Bhutan' '   India' '   Iran (Islamic Republic of)'\n",
      " '   Maldives' '   Nepal' '   Pakistan' '   Sri Lanka' '  Western Asia'\n",
      " '   Armenia' '   Azerbaijan*' '   Bahrain' '   Cyprus*' '   Georgia*'\n",
      " '   Iraq' '   Israel' '   Jordan' '   Kuwait' '   Lebanon' '   Oman'\n",
      " '   Qatar' '   Saudi Arabia' '   State of Palestine*'\n",
      " '   Syrian Arab Republic' '   Turkey' '   United Arab Emirates'\n",
      " '   Yemen' ' EUROPE' '  Eastern Europe' '   Belarus' '   Bulgaria'\n",
      " '   Czechia' '   Hungary' '   Poland' '   Republic of Moldova*'\n",
      " '   Romania' '   Russian Federation' '   Slovakia' '   Ukraine*'\n",
      " '  Northern Europe' '   Channel Islands*' '   Denmark*' '   Estonia'\n",
      " '   Faroe Islands*' '   Finland*' '   Iceland' '   Ireland'\n",
      " '   Isle of Man*' '   Latvia' '   Lithuania' '   Norway*' '   Sweden'\n",
      " '   United Kingdom*' '  Southern Europe' '   Albania' '   Andorra'\n",
      " '   Bosnia and Herzegovina' '   Croatia' '   Gibraltar*' '   Greece'\n",
      " '   Holy See*' '   Italy' '   Malta' '   Montenegro' '   North Macedonia'\n",
      " '   Portugal' '   San Marino' '   Serbia*' '   Slovenia' '   Spain*'\n",
      " '  Western Europe' '   Austria' '   Belgium' '   France*' '   Germany'\n",
      " '   Liechtenstein' '   Luxembourg' '   Monaco' '   Netherlands*'\n",
      " '   Switzerland' ' LATIN AMERICA AND THE CARIBBEAN' '  Caribbean'\n",
      " '   Anguilla*' '   Antigua and Barbuda' '   Aruba*' '   Bahamas'\n",
      " '   Barbados' '   Bonaire, Sint Eustatius and Saba*'\n",
      " '   British Virgin Islands*' '   Cayman Islands*' '   Cuba' '   Curaçao*'\n",
      " '   Dominica' '   Dominican Republic' '   Grenada' '   Guadeloupe*'\n",
      " '   Haiti' '   Jamaica' '   Martinique*' '   Montserrat*'\n",
      " '   Puerto Rico*' '   Saint Barthélemy*' '   Saint Kitts and Nevis'\n",
      " '   Saint Lucia' '   Saint Martin (French part)*'\n",
      " '   Saint Vincent and the Grenadines' '   Sint Maarten (Dutch part)*'\n",
      " '   Trinidad and Tobago' '   Turks and Caicos Islands*'\n",
      " '   United States Virgin Islands*' '  Central America' '   Belize'\n",
      " '   Costa Rica' '   El Salvador' '   Guatemala' '   Honduras' '   Mexico'\n",
      " '   Nicaragua' '   Panama' '  South America' '   Argentina'\n",
      " '   Bolivia (Plurinational State of)' '   Brazil' '   Chile'\n",
      " '   Colombia' '   Ecuador' '   Falkland Islands (Malvinas)*'\n",
      " '   French Guiana*' '   Guyana' '   Paraguay' '   Peru' '   Suriname'\n",
      " '   Uruguay' '   Venezuela (Bolivarian Republic of)' ' NORTHERN AMERICA'\n",
      " '   Bermuda*' '   Canada' '   Greenland*' '   Saint Pierre and Miquelon*'\n",
      " '   United States of America*' ' OCEANIA ' '   Australia*'\n",
      " '   New Zealand*' '  Melanesia' '   Fiji' '   New Caledonia*'\n",
      " '   Papua New Guinea' '   Solomon Islands' '   Vanuatu' '  Micronesia'\n",
      " '   Guam*' '   Kiribati' '   Marshall Islands'\n",
      " '   Micronesia (Fed. States of)' '   Nauru'\n",
      " '   Northern Mariana Islands*' '   Palau' '  Polynesia*'\n",
      " '   American Samoa*' '   Cook Islands*' '   French Polynesia*' '   Niue*'\n",
      " '   Samoa' '   Tokelau*' '   Tonga' '   Tuvalu'\n",
      " '   Wallis and Futuna Islands*']\n"
     ]
    }
   ],
   "source": [
    "valores_unicos = d_mujeres['País'].unique()\n",
    "print(valores_unicos)"
   ]
  },
  {
   "cell_type": "code",
   "execution_count": 23,
   "metadata": {},
   "outputs": [],
   "source": [
    "paises_a_filtrar = ['Northern Africa', 'Middle Africa', 'Southern Africa', 'Western Africa',  \n",
    "                    'ASIA', 'Central Asia', 'Eastern Asia', 'South-Eastern Asia', 'Southern Asia',\n",
    "                     'Western Asia', 'EUROPE', 'Eastern Europe', 'Northern Europe', 'Southern Europe',\n",
    "                     'Western Europe', 'LATIN AMERICA AND THE CARIBBEAN', 'Caribbean', 'Central America',\n",
    "                     'South America', 'NORTHERN AMERICA', 'OCEANIA', 'Melanesia', 'Micronesia', 'Polynesia*']"
   ]
  },
  {
   "cell_type": "code",
   "execution_count": 24,
   "metadata": {},
   "outputs": [],
   "source": [
    "paises_a_filtrar = [pais.strip().upper() for pais in paises_a_filtrar]\n",
    "\n",
    "d_mujeres = d_mujeres[~d_mujeres['País'].str.strip().str.upper().isin(paises_a_filtrar)].copy()"
   ]
  },
  {
   "cell_type": "code",
   "execution_count": 25,
   "metadata": {},
   "outputs": [
    {
     "data": {
      "text/plain": [
       "(1175, 4)"
      ]
     },
     "execution_count": 25,
     "metadata": {},
     "output_type": "execute_result"
    }
   ],
   "source": [
    "d_mujeres.shape"
   ]
  },
  {
   "cell_type": "code",
   "execution_count": 26,
   "metadata": {},
   "outputs": [],
   "source": [
    "d_mujeres.to_csv('destinoMujeres.csv', index=False)"
   ]
  }
 ],
 "metadata": {
  "kernelspec": {
   "display_name": "Python 3",
   "language": "python",
   "name": "python3"
  },
  "language_info": {
   "codemirror_mode": {
    "name": "ipython",
    "version": 3
   },
   "file_extension": ".py",
   "mimetype": "text/x-python",
   "name": "python",
   "nbconvert_exporter": "python",
   "pygments_lexer": "ipython3",
   "version": "3.10.11"
  },
  "orig_nbformat": 4
 },
 "nbformat": 4,
 "nbformat_minor": 2
}
