{
 "cells": [
  {
   "cell_type": "code",
   "execution_count": 1,
   "metadata": {},
   "outputs": [],
   "source": [
    "import pandas as pd\n",
    "import numpy as np"
   ]
  },
  {
   "cell_type": "code",
   "execution_count": null,
   "metadata": {},
   "outputs": [],
   "source": [
    "df1 = pd.read_csv('destinoMujeres.csv')\n",
    "df2 = pd.read_csv('origenMujeres.csv')\n",
    "\n",
    "df_combined = df1.merge(df2, on=['País', 'Código de ubicación', 'Año'], how='outer')\n",
    "\n",
    "df_combined.rename(columns={'País': 'Pais', 'Numero de Migrantes_x': 'Mujeres_destino', 'Numero de Migrantes_y': 'Mujeres_origen'}, inplace=True)\n",
    "\n",
    "pais_cod = ['BY', 'COM', 'DJI', 'ERI', 'ETH', 'KEN', 'MDG', 'MWI', 'MUS', 'MYT', 'MOZ', 'REU', 'RWA', 'SYC', 'SOM', 'SSD', 'UGS', 'TZA', 'ZMB', 'ZWE', 'AGO', 'CMR', 'CAF', 'TCD', 'COG', 'COD', 'GNQ', 'GAB', 'STP', 'DZA', 'EGY', 'LBY', 'MAR', 'SND', 'TUN', 'ESH', 'BWA', 'SWZ', 'LSO', 'NAM', 'ZAF', 'BEN', 'BFA', 'CPV', 'CIV', 'GMB', 'GHA', 'GIN', 'GNB', 'LBR', 'MLI', 'MRT', 'NER', 'NGA', 'SHN', 'SEN', 'SLE', 'TGO', 'KAZ', 'KGZ', 'TJK', 'TKM', 'UZB', 'CHN', 'HKG', 'MAC', 'TWN', 'PRK', 'JPN', 'MNG', 'KOR', 'BRN', 'KHM', 'IDN', 'LAO', 'MYS', 'MMR', 'PHL', 'SGP', 'THA', 'TLS', 'VNM', 'AFG', 'BGD', 'BTN', 'IND', 'IRN', 'MDV', 'NPL', 'PAK', 'LKA', 'ARM', 'AZE', 'BHR', 'CYP', 'GEO', 'IRQ', 'ISR', 'JOR', 'KWT', 'LBN', 'OMN', 'QAT', 'SAU', 'PSE', 'SYR', 'TUR', 'ARE', 'YEM', 'BLR', 'BGR', 'CZE', 'HUN', 'POL', 'MDA', 'ROU', 'RUS', 'SVK', 'UKR', 'CHA', 'DNK', 'EST', 'FRO', 'FIN', 'ISL', 'IRL', 'IMN', 'LVA', 'LTU', 'NOR', 'SWE', 'GBR', 'ALB', 'AND', 'BIH', 'HRV', 'GIB', 'GRC', 'VAT', 'ITA', 'MLT', 'MNE', 'MNP', 'PRT', 'SMR', 'SRB', 'SVN', 'ESP', 'AUT', 'BEL', 'FRA', 'DEU', 'LIE', 'LUX', 'MCO', 'NLD', 'CHE', 'AIA', 'ATG', 'ABW', 'BHS', 'BRB', 'BES', 'VGB', 'CYM', 'CUB', 'CUW', 'DMA', 'DOM', 'GRD', 'GLP', 'HTI', 'JAM', 'MTQ', 'MSR', 'PRI', 'BLM', 'KNA', 'LCA', 'MAF', 'VCT', 'SXM', 'TTO', 'TCA', 'VIR', 'BLZ', 'CRI', 'SLV', 'GTM', 'HND', 'MEX', 'NIC', 'PAN', 'ARG', 'BOL', 'BRA', 'CHL', 'COL', 'ECU', 'FLK', 'GUF', 'GUY', 'PRY', 'PER', 'SUR', 'URY', 'VEN', 'BMU', 'CAN', 'GRL', 'SPM', 'USA', 'AUS', 'NZL', 'FJI', 'NCL', 'PNG', 'SLB', 'VUT', 'GUM', 'KIR', 'MHL', 'FSM', 'NRU', 'MNP', 'PLW', 'ASM', 'COK', 'PYF', 'NIU', 'WSM', 'TKL', 'TON', 'TUV', 'WLF']\n",
    "rep_pais_cod = np.tile(pais_cod, len(df_combined) // len(pais_cod) + 1)[:len(df_combined)]\n",
    "df_combined['Id_Pais'] = rep_pais_cod\n",
    "\n",
    "df_combined.drop(columns=['Código de ubicación'], inplace=True)\n",
    "\n",
    "col_orden = ['Año', 'Pais', 'Id_Pais', 'Mujeres_destino', 'Mujeres_origen']\n",
    "df_combined = df_combined[col_orden]\n",
    "\n",
    "df_combined = df_combined.fillna(0)\n",
    "df_combined['Pais'] = df_combined['Pais'].str.replace('*', '')\n",
    "df_combined['Pais'] = df_combined['Pais'].str.strip()\n",
    "\n",
    "df_combined.to_csv('migrantes_mujeres.csv', index=False)"
   ]
  }
 ],
 "metadata": {
  "kernelspec": {
   "display_name": "Python 3",
   "language": "python",
   "name": "python3"
  },
  "language_info": {
   "codemirror_mode": {
    "name": "ipython",
    "version": 3
   },
   "file_extension": ".py",
   "mimetype": "text/x-python",
   "name": "python",
   "nbconvert_exporter": "python",
   "pygments_lexer": "ipython3",
   "version": "3.10.11"
  },
  "orig_nbformat": 4
 },
 "nbformat": 4,
 "nbformat_minor": 2
}
