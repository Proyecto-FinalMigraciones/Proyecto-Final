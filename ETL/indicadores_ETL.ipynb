{
 "cells": [
  {
   "cell_type": "code",
   "execution_count": 1,
   "metadata": {},
   "outputs": [],
   "source": [
    "import pandas as pd\n",
    "import numpy as np"
   ]
  },
  {
   "cell_type": "code",
   "execution_count": 2,
   "metadata": {},
   "outputs": [],
   "source": [
    "df = pd.read_csv('indicadores_migracion.csv')\n",
    "df = df.drop(columns=['Time Code'])\n",
    "df = df.rename(columns={\n",
    "    'Time': 'Año',\n",
    "    'Country Name': 'Pais',\n",
    "    'Country Code': 'Id_Pais',\n",
    "    'GDP growth (annual %) [NY.GDP.MKTP.KD.ZG]': 'Crecimiento_PIB',\n",
    "    'Unemployment, total (% of total labor force) (modeled ILO estimate) [SL.UEM.TOTL.ZS]': 'Tasa_desempleo',\n",
    "    'Inflation, GDP deflator (annual %) [NY.GDP.DEFL.KD.ZG]': 'Inflacion_PIB',\n",
    "    'Intentional homicides (per 100,000 people) [VC.IHR.PSRC.P5]': 'Homicidios_intencionales',\n",
    "    'Battle-related deaths (number of people) [VC.BTL.DETH]': 'Muertes_Conflicto',\n",
    "    'Control of Corruption: Percentile Rank [CC.PER.RNK]': 'Control_Corrupcion',\n",
    "    'CO2 emissions (kt) [EN.ATM.CO2E.KT]': 'Emisiones_CO2',\n",
    "    'Life expectancy at birth, total (years) [SP.DYN.LE00.IN]': 'Esperanza_vida',\n",
    "    'Net migration [SM.POP.NETM]': 'Migracion_neta',\n",
    "    'Population, total [SP.POP.TOTL]': 'Poblacion_total'\n",
    "})\n",
    "\n",
    "df[df.apply(lambda row: any('..' in str(val) for val in row), axis=1)]\n",
    "df.replace('..', 0, inplace=True)\n",
    "eliminar_filas = [4557, 4558, 4559, 4560, 4561]\n",
    "df = df.drop(eliminar_filas)\n",
    "df.reset_index(drop=True, inplace=True)\n",
    "\n",
    "columnas_a_excluir = ['Año', 'Pais', 'Codigo_Pais']\n",
    "columnas_a_convertir = [col for col in df.columns if col not in columnas_a_excluir]\n",
    "for columna in columnas_a_convertir:\n",
    "    if df[columna].dtype == 'O':\n",
    "        df[columna] = df[columna].str.replace(',', '').str.replace('%', '').astype(float)\n",
    "        \n",
    "df.fillna(0, inplace=True)\n"
   ]
  },
  {
   "cell_type": "code",
   "execution_count": 19,
   "metadata": {},
   "outputs": [],
   "source": [
    "df.to_csv('indicadores.csv', index=False)"
   ]
  }
 ],
 "metadata": {
  "kernelspec": {
   "display_name": "Python 3",
   "language": "python",
   "name": "python3"
  },
  "language_info": {
   "codemirror_mode": {
    "name": "ipython",
    "version": 3
   },
   "file_extension": ".py",
   "mimetype": "text/x-python",
   "name": "python",
   "nbconvert_exporter": "python",
   "pygments_lexer": "ipython3",
   "version": "3.10.11"
  },
  "orig_nbformat": 4
 },
 "nbformat": 4,
 "nbformat_minor": 2
}
