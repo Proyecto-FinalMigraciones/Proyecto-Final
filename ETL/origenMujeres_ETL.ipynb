{
 "cells": [
  {
   "cell_type": "code",
   "execution_count": 1,
   "metadata": {},
   "outputs": [],
   "source": [
    "import pandas as pd\n",
    "import numpy as np"
   ]
  },
  {
   "cell_type": "code",
   "execution_count": 2,
   "metadata": {},
   "outputs": [],
   "source": [
    "o_mujeres = pd.read_csv('origen_mujeres_clean.csv')"
   ]
  },
  {
   "cell_type": "code",
   "execution_count": 3,
   "metadata": {},
   "outputs": [
    {
     "data": {
      "text/html": [
       "<div>\n",
       "<style scoped>\n",
       "    .dataframe tbody tr th:only-of-type {\n",
       "        vertical-align: middle;\n",
       "    }\n",
       "\n",
       "    .dataframe tbody tr th {\n",
       "        vertical-align: top;\n",
       "    }\n",
       "\n",
       "    .dataframe thead th {\n",
       "        text-align: right;\n",
       "    }\n",
       "</style>\n",
       "<table border=\"1\" class=\"dataframe\">\n",
       "  <thead>\n",
       "    <tr style=\"text-align: right;\">\n",
       "      <th></th>\n",
       "      <th>Region</th>\n",
       "      <th>Location code</th>\n",
       "      <th>Year</th>\n",
       "      <th>Numero de Migrantes</th>\n",
       "    </tr>\n",
       "  </thead>\n",
       "  <tbody>\n",
       "    <tr>\n",
       "      <th>0</th>\n",
       "      <td>WORLD</td>\n",
       "      <td>900</td>\n",
       "      <td>1990</td>\n",
       "      <td>49.3</td>\n",
       "    </tr>\n",
       "    <tr>\n",
       "      <th>1</th>\n",
       "      <td>Sub-Saharan Africa</td>\n",
       "      <td>947</td>\n",
       "      <td>1990</td>\n",
       "      <td>46.9</td>\n",
       "    </tr>\n",
       "    <tr>\n",
       "      <th>2</th>\n",
       "      <td>Northern Africa and Western Asia</td>\n",
       "      <td>1833</td>\n",
       "      <td>1990</td>\n",
       "      <td>46.0</td>\n",
       "    </tr>\n",
       "    <tr>\n",
       "      <th>3</th>\n",
       "      <td>Central and Southern Asia</td>\n",
       "      <td>921</td>\n",
       "      <td>1990</td>\n",
       "      <td>45.2</td>\n",
       "    </tr>\n",
       "    <tr>\n",
       "      <th>4</th>\n",
       "      <td>Eastern and South-Eastern Asia</td>\n",
       "      <td>1832</td>\n",
       "      <td>1990</td>\n",
       "      <td>49.8</td>\n",
       "    </tr>\n",
       "  </tbody>\n",
       "</table>\n",
       "</div>"
      ],
      "text/plain": [
       "                               Region  Location code  Year   \n",
       "0                               WORLD            900  1990  \\\n",
       "1                  Sub-Saharan Africa            947  1990   \n",
       "2    Northern Africa and Western Asia           1833  1990   \n",
       "3           Central and Southern Asia            921  1990   \n",
       "4      Eastern and South-Eastern Asia           1832  1990   \n",
       "\n",
       "   Numero de Migrantes  \n",
       "0                 49.3  \n",
       "1                 46.9  \n",
       "2                 46.0  \n",
       "3                 45.2  \n",
       "4                 49.8  "
      ]
     },
     "execution_count": 3,
     "metadata": {},
     "output_type": "execute_result"
    }
   ],
   "source": [
    "o_mujeres.head()"
   ]
  },
  {
   "cell_type": "code",
   "execution_count": 4,
   "metadata": {},
   "outputs": [
    {
     "data": {
      "text/plain": [
       "(1988, 4)"
      ]
     },
     "execution_count": 4,
     "metadata": {},
     "output_type": "execute_result"
    }
   ],
   "source": [
    "o_mujeres.shape"
   ]
  },
  {
   "cell_type": "code",
   "execution_count": 5,
   "metadata": {},
   "outputs": [
    {
     "data": {
      "text/plain": [
       "Region                  object\n",
       "Location code            int64\n",
       "Year                     int64\n",
       "Numero de Migrantes    float64\n",
       "dtype: object"
      ]
     },
     "execution_count": 5,
     "metadata": {},
     "output_type": "execute_result"
    }
   ],
   "source": [
    "o_mujeres.dtypes"
   ]
  },
  {
   "cell_type": "code",
   "execution_count": 6,
   "metadata": {},
   "outputs": [
    {
     "name": "stdout",
     "output_type": "stream",
     "text": [
      "<class 'pandas.core.frame.DataFrame'>\n",
      "RangeIndex: 1988 entries, 0 to 1987\n",
      "Data columns (total 4 columns):\n",
      " #   Column               Non-Null Count  Dtype  \n",
      "---  ------               --------------  -----  \n",
      " 0   Region               1988 non-null   object \n",
      " 1   Location code        1988 non-null   int64  \n",
      " 2   Year                 1988 non-null   int64  \n",
      " 3   Numero de Migrantes  1988 non-null   float64\n",
      "dtypes: float64(1), int64(2), object(1)\n",
      "memory usage: 62.2+ KB\n"
     ]
    }
   ],
   "source": [
    "o_mujeres.info()"
   ]
  },
  {
   "cell_type": "code",
   "execution_count": 7,
   "metadata": {},
   "outputs": [],
   "source": [
    "o_mujeres.rename(columns={'Region': 'País', 'Year': 'Año', 'Location code': 'Código de ubicación'}, inplace=True)"
   ]
  },
  {
   "cell_type": "code",
   "execution_count": 8,
   "metadata": {},
   "outputs": [],
   "source": [
    "o_mujeres = o_mujeres[~o_mujeres['Año'].isin([1990, 1995])]"
   ]
  },
  {
   "cell_type": "code",
   "execution_count": 9,
   "metadata": {},
   "outputs": [
    {
     "name": "stdout",
     "output_type": "stream",
     "text": [
      "['WORLD' '  Sub-Saharan Africa' '  Northern Africa and Western Asia'\n",
      " '  Central and Southern Asia' '  Eastern and South-Eastern Asia'\n",
      " '  Latin America and the Caribbean'\n",
      " '  Oceania (excluding Australia and New Zealand)'\n",
      " '  Australia and New Zealand' '  Europe and Northern America'\n",
      " '  Developed regions' '  Less developed regions'\n",
      " ' Less developed regions, excluding least developed countries'\n",
      " ' Less developed regions, excluding China' '  Least developed countries'\n",
      " '  Land-locked Developing Countries (LLDC)'\n",
      " '  Small island developing States (SIDS)' '  High-income countries'\n",
      " '  Middle-income countries' ' Upper-middle-income countries'\n",
      " ' Lower-middle-income countries' '  Low-income countries' ' AFRICA'\n",
      " '  Eastern Africa' '   Burundi' '   Comoros' '   Djibouti' '   Eritrea'\n",
      " '   Ethiopia' '   Kenya' '   Madagascar' '   Malawi' '   Mauritius*'\n",
      " '   Mayotte*' '   Mozambique' '   Réunion*' '   Rwanda' '   Seychelles'\n",
      " '   Somalia' '   South Sudan' '   Uganda'\n",
      " '   United Republic of Tanzania*' '   Zambia' '   Zimbabwe'\n",
      " '  Middle Africa' '   Angola' '   Cameroon' '   Central African Republic'\n",
      " '   Chad' '   Congo' '   Democratic Republic of the Congo'\n",
      " '   Equatorial Guinea' '   Gabon' '   Sao Tome and Principe'\n",
      " '  Northern Africa' '   Algeria' '   Egypt' '   Libya' '   Morocco'\n",
      " '   Sudan' '   Tunisia' '   Western Sahara' '  Southern Africa'\n",
      " '   Botswana' '   Eswatini' '   Lesotho' '   Namibia' '   South Africa'\n",
      " '  Western Africa' '   Benin' '   Burkina Faso' '   Cabo Verde'\n",
      " \"   Côte d'Ivoire\" '   Gambia' '   Ghana' '   Guinea' '   Guinea-Bissau'\n",
      " '   Liberia' '   Mali' '   Mauritania' '   Niger' '   Nigeria'\n",
      " '   Saint Helena*' '   Senegal' '   Sierra Leone' '   Togo' ' ASIA'\n",
      " '  Central Asia' '   Kazakhstan' '   Kyrgyzstan' '   Tajikistan'\n",
      " '   Turkmenistan' '   Uzbekistan' '  Eastern Asia' '   China*'\n",
      " '   China, Hong Kong SAR*' '   China, Macao SAR*'\n",
      " '   China, Taiwan Province of China*'\n",
      " \"   Dem. People's Republic of Korea\" '   Japan' '   Mongolia'\n",
      " '   Republic of Korea' '  South-Eastern Asia' '   Brunei Darussalam'\n",
      " '   Cambodia' '   Indonesia' \"   Lao People's Democratic Republic\"\n",
      " '   Malaysia*' '   Myanmar' '   Philippines' '   Singapore' '   Thailand'\n",
      " '   Timor-Leste' '   Viet Nam' '  Southern Asia' '   Afghanistan'\n",
      " '   Bangladesh' '   Bhutan' '   India' '   Iran (Islamic Republic of)'\n",
      " '   Maldives' '   Nepal' '   Pakistan' '   Sri Lanka' '  Western Asia'\n",
      " '   Armenia' '   Azerbaijan*' '   Bahrain' '   Cyprus*' '   Georgia*'\n",
      " '   Iraq' '   Israel' '   Jordan' '   Kuwait' '   Lebanon' '   Oman'\n",
      " '   Qatar' '   Saudi Arabia' '   State of Palestine*'\n",
      " '   Syrian Arab Republic' '   Turkey' '   United Arab Emirates'\n",
      " '   Yemen' ' EUROPE' '  Eastern Europe' '   Belarus' '   Bulgaria'\n",
      " '   Czechia' '   Hungary' '   Poland' '   Republic of Moldova*'\n",
      " '   Romania' '   Russian Federation' '   Slovakia' '   Ukraine*'\n",
      " '  Northern Europe' '   Channel Islands*' '   Denmark*' '   Estonia'\n",
      " '   Faroe Islands*' '   Finland*' '   Iceland' '   Ireland'\n",
      " '   Isle of Man*' '   Latvia' '   Lithuania' '   Norway*' '   Sweden'\n",
      " '   United Kingdom*' '  Southern Europe' '   Albania' '   Andorra'\n",
      " '   Bosnia and Herzegovina' '   Croatia' '   Gibraltar*' '   Greece'\n",
      " '   Holy See*' '   Italy' '   Malta' '   Montenegro' '   North Macedonia'\n",
      " '   Portugal' '   San Marino' '   Serbia*' '   Slovenia' '   Spain*'\n",
      " '  Western Europe' '   Austria' '   Belgium' '   France*' '   Germany'\n",
      " '   Liechtenstein' '   Luxembourg' '   Monaco' '   Netherlands*'\n",
      " '   Switzerland' ' LATIN AMERICA AND THE CARIBBEAN' '  Caribbean'\n",
      " '   Anguilla*' '   Antigua and Barbuda' '   Aruba*' '   Bahamas'\n",
      " '   Barbados' '   Bonaire, Sint Eustatius and Saba*'\n",
      " '   British Virgin Islands*' '   Cayman Islands*' '   Cuba' '   Curaçao*'\n",
      " '   Dominica' '   Dominican Republic' '   Grenada' '   Guadeloupe*'\n",
      " '   Haiti' '   Jamaica' '   Martinique*' '   Montserrat*'\n",
      " '   Puerto Rico*' '   Saint Barthélemy*' '   Saint Kitts and Nevis'\n",
      " '   Saint Lucia' '   Saint Martin (French part)*'\n",
      " '   Saint Vincent and the Grenadines' '   Sint Maarten (Dutch part)*'\n",
      " '   Trinidad and Tobago' '   Turks and Caicos Islands*'\n",
      " '   United States Virgin Islands*' '  Central America' '   Belize'\n",
      " '   Costa Rica' '   El Salvador' '   Guatemala' '   Honduras' '   Mexico'\n",
      " '   Nicaragua' '   Panama' '  South America' '   Argentina'\n",
      " '   Bolivia (Plurinational State of)' '   Brazil' '   Chile'\n",
      " '   Colombia' '   Ecuador' '   Falkland Islands (Malvinas)*'\n",
      " '   French Guiana*' '   Guyana' '   Paraguay' '   Peru' '   Suriname'\n",
      " '   Uruguay' '   Venezuela (Bolivarian Republic of)' ' NORTHERN AMERICA'\n",
      " '   Bermuda*' '   Canada' '   Greenland*' '   Saint Pierre and Miquelon*'\n",
      " '   United States of America*' ' OCEANIA ' '   Australia*'\n",
      " '   New Zealand*' '  Melanesia' '   Fiji' '   New Caledonia*'\n",
      " '   Papua New Guinea' '   Solomon Islands' '   Vanuatu' '  Micronesia'\n",
      " '   Guam*' '   Kiribati' '   Marshall Islands'\n",
      " '   Micronesia (Fed. States of)' '   Nauru'\n",
      " '   Northern Mariana Islands*' '   Palau' '  Polynesia*'\n",
      " '   American Samoa*' '   Cook Islands*' '   French Polynesia*' '   Niue*'\n",
      " '   Samoa' '   Tokelau*' '   Tonga' '   Tuvalu'\n",
      " '   Wallis and Futuna Islands*' 'OTHER']\n"
     ]
    }
   ],
   "source": [
    "valores_unicos = o_mujeres['País'].unique()\n",
    "print(valores_unicos)"
   ]
  },
  {
   "cell_type": "code",
   "execution_count": 10,
   "metadata": {},
   "outputs": [],
   "source": [
    "paises_a_filtrar = ['WORLD', 'Sub-Saharan Africa', 'Northern Africa and Western Asia',\n",
    "                     'Central and Southern Asia', 'Eastern and South-Eastern Asia',\n",
    "                     'Latin America and the Caribbean',\n",
    "                     'Oceania (excluding Australia and New Zealand)',\n",
    "                     'Australia and New Zealand', 'Europe and Northern America',\n",
    "                     'Developed regions', 'Less developed regions',\n",
    "                     'Less developed regions, excluding least developed countries',\n",
    "                     'Less developed regions, excluding China',\n",
    "                     'Least developed countries',\n",
    "                     'Land-locked Developing Countries (LLDC)',\n",
    "                     'Small island developing States (SIDS)',\n",
    "                     'High-income countries', 'Middle-income countries',\n",
    "                     'Upper-middle-income countries', 'Lower-middle-income countries',\n",
    "                     'Low-income countries', 'AFRICA', 'Eastern Africa',\n",
    "                     'Northern Africa', 'Middle Africa', 'Southern Africa',\n",
    "                     'Western Africa', 'ASIA','Central Asia', 'Eastern Asia', \n",
    "                     'South-Eastern Asia', 'Southern Asia', 'Western Asia', 'EUROPE',\n",
    "                     'Eastern Europe', 'Northern Europe', 'Southern Europe', 'Western Europe',\n",
    "                     'Caribbean', 'Central America','South America', 'NORTHERN AMERICA', 'OCEANIA',\n",
    "                     'Melanesia', 'Micronesia', 'Polynesia*', 'OTHER']"
   ]
  },
  {
   "cell_type": "code",
   "execution_count": 11,
   "metadata": {},
   "outputs": [],
   "source": [
    "paises_a_filtrar = [pais.strip().upper() for pais in paises_a_filtrar]\n",
    "\n",
    "o_mujeres = o_mujeres[~o_mujeres['País'].str.strip().str.upper().isin(paises_a_filtrar)].copy()"
   ]
  },
  {
   "cell_type": "code",
   "execution_count": 12,
   "metadata": {},
   "outputs": [],
   "source": [
    "o_mujeres.reset_index(drop=True, inplace=True)"
   ]
  },
  {
   "cell_type": "code",
   "execution_count": 13,
   "metadata": {},
   "outputs": [
    {
     "data": {
      "text/html": [
       "<div>\n",
       "<style scoped>\n",
       "    .dataframe tbody tr th:only-of-type {\n",
       "        vertical-align: middle;\n",
       "    }\n",
       "\n",
       "    .dataframe tbody tr th {\n",
       "        vertical-align: top;\n",
       "    }\n",
       "\n",
       "    .dataframe thead th {\n",
       "        text-align: right;\n",
       "    }\n",
       "</style>\n",
       "<table border=\"1\" class=\"dataframe\">\n",
       "  <thead>\n",
       "    <tr style=\"text-align: right;\">\n",
       "      <th></th>\n",
       "      <th>País</th>\n",
       "      <th>Código de ubicación</th>\n",
       "      <th>Año</th>\n",
       "      <th>Numero de Migrantes</th>\n",
       "    </tr>\n",
       "  </thead>\n",
       "  <tbody>\n",
       "    <tr>\n",
       "      <th>0</th>\n",
       "      <td>Burundi</td>\n",
       "      <td>108</td>\n",
       "      <td>2000</td>\n",
       "      <td>48.8</td>\n",
       "    </tr>\n",
       "    <tr>\n",
       "      <th>1</th>\n",
       "      <td>Comoros</td>\n",
       "      <td>174</td>\n",
       "      <td>2000</td>\n",
       "      <td>47.6</td>\n",
       "    </tr>\n",
       "    <tr>\n",
       "      <th>2</th>\n",
       "      <td>Djibouti</td>\n",
       "      <td>262</td>\n",
       "      <td>2000</td>\n",
       "      <td>42.6</td>\n",
       "    </tr>\n",
       "    <tr>\n",
       "      <th>3</th>\n",
       "      <td>Eritrea</td>\n",
       "      <td>232</td>\n",
       "      <td>2000</td>\n",
       "      <td>50.1</td>\n",
       "    </tr>\n",
       "    <tr>\n",
       "      <th>4</th>\n",
       "      <td>Ethiopia</td>\n",
       "      <td>231</td>\n",
       "      <td>2000</td>\n",
       "      <td>46.3</td>\n",
       "    </tr>\n",
       "  </tbody>\n",
       "</table>\n",
       "</div>"
      ],
      "text/plain": [
       "          País  Código de ubicación   Año  Numero de Migrantes\n",
       "0      Burundi                  108  2000                 48.8\n",
       "1      Comoros                  174  2000                 47.6\n",
       "2     Djibouti                  262  2000                 42.6\n",
       "3      Eritrea                  232  2000                 50.1\n",
       "4     Ethiopia                  231  2000                 46.3"
      ]
     },
     "execution_count": 13,
     "metadata": {},
     "output_type": "execute_result"
    }
   ],
   "source": [
    "o_mujeres.head()"
   ]
  },
  {
   "cell_type": "code",
   "execution_count": 14,
   "metadata": {},
   "outputs": [
    {
     "data": {
      "text/plain": [
       "(1175, 4)"
      ]
     },
     "execution_count": 14,
     "metadata": {},
     "output_type": "execute_result"
    }
   ],
   "source": [
    "o_mujeres.shape"
   ]
  },
  {
   "cell_type": "code",
   "execution_count": 15,
   "metadata": {},
   "outputs": [],
   "source": [
    "o_mujeres.to_csv('origenMujeres.csv', index=False)"
   ]
  }
 ],
 "metadata": {
  "kernelspec": {
   "display_name": "Python 3",
   "language": "python",
   "name": "python3"
  },
  "language_info": {
   "codemirror_mode": {
    "name": "ipython",
    "version": 3
   },
   "file_extension": ".py",
   "mimetype": "text/x-python",
   "name": "python",
   "nbconvert_exporter": "python",
   "pygments_lexer": "ipython3",
   "version": "3.10.11"
  },
  "orig_nbformat": 4
 },
 "nbformat": 4,
 "nbformat_minor": 2
}
