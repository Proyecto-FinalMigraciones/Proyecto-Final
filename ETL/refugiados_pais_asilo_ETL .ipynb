{
 "cells": [
  {
   "cell_type": "code",
   "execution_count": null,
   "metadata": {},
   "outputs": [],
   "source": [
    "import pandas as pd\n",
    "import numpy as np"
   ]
  },
  {
   "cell_type": "code",
   "execution_count": null,
   "metadata": {},
   "outputs": [],
   "source": [
    "df = pd.read_csv('refugiados_paisasilo.csv')\n",
    "\n",
    "df.rename(columns={'Entity': 'Pais', 'Code': 'Id_Pais', 'Year': 'Año', 'Refugee population by country or territory of asylum': 'Poblacion_pais_asilo'}, inplace=True)\n",
    "col_orden = ['Año', 'Pais', 'Id_Pais', 'Poblacion_pais_asilo']\n",
    "df = df[col_orden]\n",
    "años_a_mantener = range(2000, 2021) \n",
    "df = df.loc[df['Año'].isin(años_a_mantener)]\n",
    "paises_a_filtrar = ['East Asia and Pacific (WB)', 'Europe and Central Asia (WB)', 'European Union (27)', \n",
    "                    'High-income countries', 'Latin America and Caribbean (WB)', 'Low-income countries', \n",
    "                    'Lower-middle-income countries', 'Middle East and North Africa (WB)', 'Middle-income countries',\n",
    "                    'North America (WB)', 'Upper-middle-income countries', 'South Asia (WB)',\n",
    "                    'Sub-Saharan Africa (WB)', 'Upper-middle-income countries','West Bank and Gaza', 'World']\n",
    "\n",
    "paises_a_filtrar = [pais.strip().upper() for pais in paises_a_filtrar]\n",
    "df = df[~df['Pais'].str.strip().str.upper().isin(paises_a_filtrar)].copy()\n",
    "\n",
    "df.reset_index(drop=True, inplace=True)"
   ]
  },
  {
   "cell_type": "code",
   "execution_count": null,
   "metadata": {},
   "outputs": [],
   "source": [
    "df.to_csv('refugiados_pais_asilo.csv')"
   ]
  }
 ],
 "metadata": {
  "kernelspec": {
   "display_name": "Python 3",
   "language": "python",
   "name": "python3"
  },
  "language_info": {
   "codemirror_mode": {
    "name": "ipython",
    "version": 3
   },
   "file_extension": ".py",
   "mimetype": "text/x-python",
   "name": "python",
   "nbconvert_exporter": "python",
   "pygments_lexer": "ipython3",
   "version": "3.10.11"
  },
  "orig_nbformat": 4
 },
 "nbformat": 4,
 "nbformat_minor": 2
}
