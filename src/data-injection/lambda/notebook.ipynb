{
 "cells": [
  {
   "cell_type": "code",
   "execution_count": 1,
   "metadata": {},
   "outputs": [],
   "source": [
    "import pandas as pd\n",
    "import datetime"
   ]
  },
  {
   "cell_type": "code",
   "execution_count": null,
   "metadata": {},
   "outputs": [],
   "source": [
    "año_actual = datetime.date.today().year\n",
    "\n",
    "url = f\"http://api.worldbank.org/v2/country/all/indicator/{indicador}?format=json&date=2020:{año_actual}&page={pagina}\""
   ]
  },
  {
   "cell_type": "markdown",
   "metadata": {},
   "source": [
    "ETL API BM - INDICADORES"
   ]
  },
  {
   "cell_type": "code",
   "execution_count": null,
   "metadata": {},
   "outputs": [],
   "source": [
    "dataframe = 'dataframe_individual_indicador()'\n",
    "dataframe = dataframe.drop(columns=['unit', 'obs_status', 'decimal', 'indicator'])\n",
    "\n",
    "dataframe = dataframe.rename(columns={'value': {'indicador'}})\n",
    "\n",
    "dataframe['country'] = dataframe['country'].apply(lambda x: x['value'])\n"
   ]
  },
  {
   "cell_type": "code",
   "execution_count": null,
   "metadata": {},
   "outputs": [],
   "source": [
    "dataframe = dataframe.rename(columns={\n",
    "    'date': 'Año',\n",
    "    'country': 'Pais',\n",
    "    'countryiso3code': 'Id_Pais',\n",
    "    'NY.GDP.MKTP.KD.ZG': 'Crecimiento_PIB',\n",
    "    'SL.UEM.TOTL.ZS': 'Tasa_desempleo',\n",
    "    'NY.GDP.DEFL.KD.ZG': 'Inflacion_PIB',\n",
    "    'VC.IHR.PSRC.P5': 'Homicidios_intencionales',\n",
    "    'VC.BTL.DETH': 'Muertes_Conflicto',\n",
    "    'CC.PER.RNK': 'Control_Corrupcion',\n",
    "    'EN.ATM.CO2E.KT': 'Emisiones_CO2',\n",
    "    'SP.DYN.LE00.IN': 'Esperanza_vida',\n",
    "    'SM.POP.NETM': 'Migracion_neta',\n",
    "    'SP.POP.TOTL': 'Poblacion_total',\n",
    "    'SP.POP.TOTL': 'Poblacion_total',\n",
    "    'SP.POP.TOTL.MA.IN': 'Poblacion_masculina',\n",
    "    'SP.POP.TOTL.FE.IN': 'Poblacion_femenina',\n",
    "})"
   ]
  }
 ],
 "metadata": {
  "kernelspec": {
   "display_name": "Python 3",
   "language": "python",
   "name": "python3"
  },
  "language_info": {
   "codemirror_mode": {
    "name": "ipython",
    "version": 3
   },
   "file_extension": ".py",
   "mimetype": "text/x-python",
   "name": "python",
   "nbconvert_exporter": "python",
   "pygments_lexer": "ipython3",
   "version": "3.11.3"
  },
  "orig_nbformat": 4
 },
 "nbformat": 4,
 "nbformat_minor": 2
}
